{
 "cells": [
  {
   "cell_type": "markdown",
   "metadata": {},
   "source": [
    "## Vision transformers"
   ]
  },
  {
   "cell_type": "markdown",
   "metadata": {},
   "source": [
    "Outline:\n",
    "- (Maybe) Jax exercises?\n",
    "- Implement attention mechanism\n",
    "- Load pretrained weights\n",
    "- Load ImageNet\n",
    "- Fine-tune on ImageNet (write training loop)"
   ]
  },
  {
   "cell_type": "markdown",
   "metadata": {},
   "source": [
    "## Vision transformer architecture\n",
    "\n",
    "First, go to vit_architecture.py and fill in some model definitions. You might find this illustration of the architecture of a vision transformer helpful (Figure 1 from the [ViT paper](https://arxiv.org/pdf/2010.11929.pdf))\n",
    "\n",
    "![](vit_architecture.png)"
   ]
  },
  {
   "cell_type": "markdown",
   "metadata": {},
   "source": [
    "Once you complete all the TODOs, run the cell below to import the model."
   ]
  },
  {
   "cell_type": "code",
   "execution_count": 3,
   "metadata": {},
   "outputs": [],
   "source": [
    "from vit_architecture_solutions import VisionTransformer\n",
    "# from vit_architecture import VisionTransformer\n",
    "\n",
    "config = {\n",
    "  \"model_name\": 'ViT-B_16',\n",
    "  \"patch_size\": 16,\n",
    "  \"hidden_size\": 768,\n",
    "  \"transformer_mlp_dim\": 3072,\n",
    "  \"transformer_num_heads\": 12,\n",
    "  \"transformer_num_layers\": 12,\n",
    "  \"transformer_attn_dropout\": 0.0,\n",
    "  \"transformer_dropout\": 0.0,\n",
    "  }\n",
    "\n",
    "model = VisionTransformer(num_classes=num_classes, **model_config)"
   ]
  },
  {
   "cell_type": "markdown",
   "metadata": {},
   "source": [
    "## Load pre-trained weights"
   ]
  },
  {
   "cell_type": "markdown",
   "metadata": {},
   "source": [
    "## Load ImageNet"
   ]
  },
  {
   "cell_type": "code",
   "execution_count": null,
   "metadata": {},
   "outputs": [],
   "source": []
  },
  {
   "cell_type": "markdown",
   "metadata": {},
   "source": [
    "## Fine-tune"
   ]
  },
  {
   "cell_type": "markdown",
   "metadata": {},
   "source": []
  }
 ],
 "metadata": {
  "kernelspec": {
   "display_name": "Python 3.9.12 ('base')",
   "language": "python",
   "name": "python3"
  },
  "language_info": {
   "codemirror_mode": {
    "name": "ipython",
    "version": 3
   },
   "file_extension": ".py",
   "mimetype": "text/x-python",
   "name": "python",
   "nbconvert_exporter": "python",
   "pygments_lexer": "ipython3",
   "version": "3.9.12"
  },
  "orig_nbformat": 4,
  "vscode": {
   "interpreter": {
    "hash": "caf1c2fcf97217de91eafa76b907d50f9ea378f5ffbee7f571142d119bb6a771"
   }
  }
 },
 "nbformat": 4,
 "nbformat_minor": 2
}
