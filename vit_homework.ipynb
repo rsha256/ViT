{
 "cells": [
  {
   "cell_type": "markdown",
   "metadata": {},
   "source": [
    "## Vision transformers"
   ]
  },
  {
   "cell_type": "markdown",
   "metadata": {},
   "source": [
    "Outline:\n",
    "- Fill in model architecture (maybe ask them to implement attention by hand? might be too hard)\n",
    "- Load pretrained weights\n",
    "- Load ImageNet\n",
    "- Fine-tune on ImageNet (write training loop)"
   ]
  },
  {
   "cell_type": "markdown",
   "metadata": {},
   "source": [
    "## Vision transformer architecture\n",
    "\n",
    "First, go to **vit_architecture.py** and fill in some model definitions. You might find this illustration of the architecture of a vision transformer helpful (Figure 1 from the [ViT paper](https://arxiv.org/pdf/2010.11929.pdf)).\n",
    "\n",
    "![](vit_architecture.png)"
   ]
  },
  {
   "cell_type": "markdown",
   "metadata": {},
   "source": [
    "Once you complete all the TODOs, run the cell below to import the model."
   ]
  },
  {
   "cell_type": "code",
   "execution_count": 1,
   "metadata": {},
   "outputs": [
    {
     "data": {
      "text/plain": [
       "VisionTransformer(\n",
       "    # attributes\n",
       "    num_classes = 10\n",
       "    patch_size = 16\n",
       "    hidden_size = 768\n",
       "    transformer_config = {'mlp_dim': 3072, 'num_heads': 12, 'num_layers': 12, 'attention_dropout_rate': 0.0, 'dropout_rate': 0.0}\n",
       "    cls_head_bias_init = 0.0\n",
       "    model_name = 'ViT-S_16'\n",
       ")"
      ]
     },
     "execution_count": 1,
     "metadata": {},
     "output_type": "execute_result"
    }
   ],
   "source": [
    "%load_ext autoreload\n",
    "%autoreload 2\n",
    "\n",
    "from vit_architecture_solutions import VisionTransformer\n",
    "# from vit_architecture import VisionTransformer\n",
    "\n",
    "config = {\n",
    "    \"num_classes\": 10,\n",
    "    \"patch_size\": 16,\n",
    "    \"hidden_size\": 768,\n",
    "    \"model_name\": 'ViT-S_16',\n",
    "}\n",
    "\n",
    "transformer_config = {\n",
    "    \"mlp_dim\": 3072,\n",
    "    \"num_heads\": 12,\n",
    "    \"num_layers\": 12,\n",
    "    \"attention_dropout_rate\": 0.0,\n",
    "    \"dropout_rate\": 0.0,\n",
    "}\n",
    "\n",
    "model = VisionTransformer(\n",
    "    num_classes=config[\"num_classes\"], \n",
    "    patch_size=config[\"patch_size\"],\n",
    "    hidden_size=config[\"hidden_size\"],\n",
    "    model_name=config[\"model_name\"],\n",
    "    transformer_config=transformer_config,\n",
    ")\n",
    "\n",
    "model"
   ]
  },
  {
   "cell_type": "markdown",
   "metadata": {},
   "source": [
    "## Load pre-trained weights"
   ]
  },
  {
   "cell_type": "code",
   "execution_count": 2,
   "metadata": {},
   "outputs": [
    {
     "name": "stderr",
     "output_type": "stream",
     "text": [
      "2022-12-05 06:33:38.968376: W tensorflow/compiler/xla/stream_executor/platform/default/dso_loader.cc:64] Could not load dynamic library 'libnvinfer.so.7'; dlerror: libnvinfer.so.7: cannot open shared object file: No such file or directory\n",
      "2022-12-05 06:33:38.968447: W tensorflow/compiler/xla/stream_executor/platform/default/dso_loader.cc:64] Could not load dynamic library 'libnvinfer_plugin.so.7'; dlerror: libnvinfer_plugin.so.7: cannot open shared object file: No such file or directory\n",
      "2022-12-05 06:33:38.968458: W tensorflow/compiler/tf2tensorrt/utils/py_utils.cc:38] TF-TRT Warning: Cannot dlopen some TensorRT libraries. If you would like to use Nvidia GPU with TensorRT, please make sure the missing libraries mentioned above are installed properly.\n",
      "/home/ubuntu/anaconda3/envs/cs182/lib/python3.10/site-packages/tqdm/auto.py:22: TqdmWarning: IProgress not found. Please update jupyter and ipywidgets. See https://ipywidgets.readthedocs.io/en/stable/user_install.html\n",
      "  from .autonotebook import tqdm as notebook_tqdm\n"
     ]
    },
    {
     "data": {
      "text/plain": [
       "[StreamExecutorGpuDevice(id=0, process_index=0, slice_index=0)]"
      ]
     },
     "execution_count": 2,
     "metadata": {},
     "output_type": "execute_result"
    }
   ],
   "source": [
    "import os\n",
    "import numpy as np\n",
    "import jax\n",
    "import jax.numpy as jnp\n",
    "from vit_utils import load_pretrained\n",
    "jax.local_devices() # shows available devices"
   ]
  },
  {
   "cell_type": "code",
   "execution_count": 3,
   "metadata": {},
   "outputs": [],
   "source": [
    "# Download pretrained S_16 checkpoint\n",
    "checkpoint_file = \"S_16-i21k-300ep-lr_0.001-aug_light1-wd_0.03-do_0.0-sd_0.0.npz\"\n",
    "if not os.path.exists(\"checkpoints\"):\n",
    "    os.system(\"mkdir checkpoints\")\n",
    "os.chdir(\"checkpoints\")\n",
    "if not os.path.exists(checkpoint_file):\n",
    "    os.system(f\"wget https://storage.googleapis.com/vit_models/augreg/{checkpoint_file}\")\n",
    "os.chdir(\"..\")\n",
    "with open(f\"checkpoints/{checkpoint_file}\", \"rb\") as f:\n",
    "    ckpt_dict = np.load(f, allow_pickle=False)\n",
    "    keys, values = zip(*list(ckpt_dict.items()))\n",
    "\n",
    "# Initialize the model with random parameters\n",
    "variables = jax.jit(lambda: model.init(\n",
    "    jax.random.PRNGKey(0),\n",
    "    np.random.randn(2, 224, 224, 3),\n",
    "    train=False,\n",
    "), backend='cpu')()"
   ]
  },
  {
   "cell_type": "code",
   "execution_count": 4,
   "metadata": {},
   "outputs": [
    {
     "name": "stdout",
     "output_type": "stream",
     "text": [
      "load_pretrained: resized variant: %s to %s (1, 197, 384) (1, 197, 768)\n",
      "load_pretrained: grid-size from %s to %s 14 14\n"
     ]
    }
   ],
   "source": [
    "# Load checkpoint\n",
    "params = load_pretrained(\n",
    "    pretrained_path=f'checkpoints/{checkpoint_file}',\n",
    "    init_params=variables['params'],\n",
    ")"
   ]
  },
  {
   "cell_type": "markdown",
   "metadata": {},
   "source": [
    "## Load ImageNet"
   ]
  },
  {
   "cell_type": "code",
   "execution_count": 26,
   "metadata": {},
   "outputs": [
    {
     "name": "stdout",
     "output_type": "stream",
     "text": [
      "Files already downloaded and verified\n",
      "Files already downloaded and verified\n"
     ]
    },
    {
     "name": "stderr",
     "output_type": "stream",
     "text": [
      "WARNING:matplotlib.image:Clipping input data to the valid range for imshow with RGB data ([0..1] for floats or [0..255] for integers).\n"
     ]
    },
    {
     "name": "stdout",
     "output_type": "stream",
     "text": [
      "image.shape=torch.Size([3, 32, 32])\n",
      "label=3\n"
     ]
    },
    {
     "data": {
      "image/png": "[encoded data removed]",
      "text/plain": [
       "<Figure size 640x480 with 1 Axes>"
      ]
     },
     "metadata": {},
     "output_type": "display_data"
    }
   ],
   "source": [
    "from torch.utils.data import DataLoader\n",
    "from vit_utils import get_cifar10, NumpyLoader, one_hot, accuracy\n",
    "import matplotlib.pyplot as plt\n",
    "import einops\n",
    "\n",
    "n_targets = 10\n",
    "batch_size = 128\n",
    "cifar10_train, cifar10_test = get_cifar10()\n",
    "# cifar10_train = NumpyLoader(cifar10_train, batch_size=batch_size, num_workers=0)\n",
    "# cifar10_test = NumpyLoader(cifar10_test, batch_size=batch_size, num_workers=0)\n",
    "# batch = next(iter(cifar10_test))\n",
    "for image, label in cifar10_test:\n",
    "    print(f\"{image.shape=}\")\n",
    "    plt.imshow(einops.rearrange(image, \"c h w -> h w c\"))\n",
    "    print(f\"{label=}\")\n",
    "    break"
   ]
  },
  {
   "cell_type": "code",
   "execution_count": 23,
   "metadata": {},
   "outputs": [
    {
     "ename": "AttributeError",
     "evalue": "'CIFAR10' object has no attribute 'train_data'",
     "output_type": "error",
     "traceback": [
      "\u001b[0;31m---------------------------------------------------------------------------\u001b[0m",
      "\u001b[0;31mAttributeError\u001b[0m                            Traceback (most recent call last)",
      "Cell \u001b[0;32mIn[23], line 2\u001b[0m\n\u001b[1;32m      1\u001b[0m \u001b[39m# Get the full train dataset (for checking accuracy while training)\u001b[39;00m\n\u001b[0;32m----> 2\u001b[0m train_images \u001b[39m=\u001b[39m np\u001b[39m.\u001b[39marray(cifar10_train\u001b[39m.\u001b[39;49mtrain_data)\u001b[39m.\u001b[39mreshape(\u001b[39mlen\u001b[39m(cifar10_train\u001b[39m.\u001b[39mtrain_data), \u001b[39m-\u001b[39m\u001b[39m1\u001b[39m)\n\u001b[1;32m      3\u001b[0m train_labels \u001b[39m=\u001b[39m one_hot(np\u001b[39m.\u001b[39marray(cifar10_train\u001b[39m.\u001b[39mtrain_labels), n_targets)\n\u001b[1;32m      5\u001b[0m \u001b[39m# Get full test dataset\u001b[39;00m\n",
      "\u001b[0;31mAttributeError\u001b[0m: 'CIFAR10' object has no attribute 'train_data'"
     ]
    }
   ],
   "source": [
    "# Get the full train dataset (for checking accuracy while training)\n",
    "train_images = np.array(cifar10_train.train_data).reshape(len(cifar10_train.train_data), -1)\n",
    "train_labels = one_hot(np.array(cifar10_train.train_labels), n_targets)\n",
    "\n",
    "# Get full test dataset\n",
    "test_images = jnp.array(cifar10_test.test_data.numpy().reshape(len(cifar10_test.test_data), -1), dtype=jnp.float32)\n",
    "test_labels = one_hot(np.array(cifar10_test.test_labels), n_targets)"
   ]
  },
  {
   "cell_type": "code",
   "execution_count": 28,
   "metadata": {},
   "outputs": [
    {
     "ename": "CallCompactUnboundModuleError",
     "evalue": "Can't call compact methods on unbound modules (https://flax.readthedocs.io/en/latest/api_reference/flax.errors.html#flax.errors.CallCompactUnboundModuleError)",
     "output_type": "error",
     "traceback": [
      "\u001b[0;31m---------------------------------------------------------------------------\u001b[0m",
      "\u001b[0;31mCallCompactUnboundModuleError\u001b[0m             Traceback (most recent call last)",
      "Cell \u001b[0;32mIn[28], line 1\u001b[0m\n\u001b[0;32m----> 1\u001b[0m out \u001b[39m=\u001b[39m model(image\u001b[39m.\u001b[39;49mnumpy())\n",
      "File \u001b[0;32m~/anaconda3/envs/cs182/lib/python3.10/site-packages/flax/linen/module.py:411\u001b[0m, in \u001b[0;36mwrap_method_once.<locals>.wrapped_module_method\u001b[0;34m(*args, **kwargs)\u001b[0m\n\u001b[1;32m    409\u001b[0m \u001b[39mif\u001b[39;00m args \u001b[39mand\u001b[39;00m \u001b[39misinstance\u001b[39m(args[\u001b[39m0\u001b[39m], Module):\n\u001b[1;32m    410\u001b[0m   \u001b[39mself\u001b[39m, args \u001b[39m=\u001b[39m args[\u001b[39m0\u001b[39m], args[\u001b[39m1\u001b[39m:]\n\u001b[0;32m--> 411\u001b[0m   \u001b[39mreturn\u001b[39;00m \u001b[39mself\u001b[39;49m\u001b[39m.\u001b[39;49m_call_wrapped_method(fun, args, kwargs)\n\u001b[1;32m    412\u001b[0m \u001b[39melse\u001b[39;00m:\n\u001b[1;32m    413\u001b[0m   \u001b[39mreturn\u001b[39;00m fun(\u001b[39m*\u001b[39margs, \u001b[39m*\u001b[39m\u001b[39m*\u001b[39mkwargs)\n",
      "File \u001b[0;32m~/anaconda3/envs/cs182/lib/python3.10/site-packages/flax/linen/module.py:722\u001b[0m, in \u001b[0;36mModule._call_wrapped_method\u001b[0;34m(self, fun, args, kwargs)\u001b[0m\n\u001b[1;32m    720\u001b[0m \u001b[39mif\u001b[39;00m is_compact_method:\n\u001b[1;32m    721\u001b[0m   \u001b[39mif\u001b[39;00m \u001b[39mself\u001b[39m\u001b[39m.\u001b[39mscope \u001b[39mis\u001b[39;00m \u001b[39mNone\u001b[39;00m:\n\u001b[0;32m--> 722\u001b[0m     \u001b[39mraise\u001b[39;00m errors\u001b[39m.\u001b[39mCallCompactUnboundModuleError()\n\u001b[1;32m    723\u001b[0m   is_recurrent \u001b[39m=\u001b[39m \u001b[39mself\u001b[39m\u001b[39m.\u001b[39m_state\u001b[39m.\u001b[39min_compact_method\n\u001b[1;32m    724\u001b[0m   \u001b[39mself\u001b[39m\u001b[39m.\u001b[39m_state\u001b[39m.\u001b[39min_compact_method \u001b[39m=\u001b[39m \u001b[39mTrue\u001b[39;00m\n",
      "\u001b[0;31mCallCompactUnboundModuleError\u001b[0m: Can't call compact methods on unbound modules (https://flax.readthedocs.io/en/latest/api_reference/flax.errors.html#flax.errors.CallCompactUnboundModuleError)"
     ]
    }
   ],
   "source": [
    "out = model(image.numpy())"
   ]
  },
  {
   "cell_type": "code",
   "execution_count": 30,
   "metadata": {},
   "outputs": [
    {
     "name": "stdout",
     "output_type": "stream",
     "text": [
      "params.cls: DeviceArray (10,)\n",
      "params_repl.cls: ShardedDeviceArray (1, 10)\n"
     ]
    }
   ],
   "source": [
    "import flax\n",
    "\n",
    "# So far, all our data is in the host memory. Let's now replicate the arrays\n",
    "# into the devices.\n",
    "# This will make every array in the pytree params become a ShardedDeviceArray\n",
    "# that has the same data replicated across all local devices.\n",
    "# For TPU it replicates the params in every core.\n",
    "# For a single GPU this simply moves the data onto the device.\n",
    "# For CPU it simply creates a copy.\n",
    "params_repl = flax.jax_utils.replicate(params)\n",
    "print('params.cls:', type(params['head']['bias']).__name__,\n",
    "      params['head']['bias'].shape)\n",
    "print('params_repl.cls:', type(params_repl['head']['bias']).__name__,\n",
    "      params_repl['head']['bias'].shape)"
   ]
  },
  {
   "cell_type": "code",
   "execution_count": 31,
   "metadata": {},
   "outputs": [],
   "source": [
    "# Then map the call to our model's forward pass onto all available devices.\n",
    "vit_apply_repl = jax.pmap(lambda params, inputs: model.apply(\n",
    "    dict(params=params), inputs, train=False))"
   ]
  },
  {
   "cell_type": "code",
   "execution_count": null,
   "metadata": {},
   "outputs": [],
   "source": [
    "\n",
    "def get_accuracy(params_repl, torch_loader: DataLoader):\n",
    "  \"\"\"Returns accuracy evaluated on the test set.\"\"\"\n",
    "  good = total = 0\n",
    "  for _, batch in zip(tqdm.trange(steps), ds_test.as_numpy_iterator()):\n",
    "  for image, label in torch_loader:\n",
    "    image = image.numpy()\n",
    "    predicted = vit_apply_repl(params_repl, image)\n",
    "    print(predicted.shape)\n",
    "    print(label.shape)\n",
    "    break\n",
    "    is_same = predicted.argmax(axis=-1) == label.argmax(axis=-1)\n",
    "    good += is_same.sum()\n",
    "    total += len(is_same.flatten())\n",
    "  return good #/ total\n",
    "\n"
   ]
  },
  {
   "cell_type": "markdown",
   "metadata": {},
   "source": [
    "## Fine-tune"
   ]
  },
  {
   "cell_type": "markdown",
   "metadata": {},
   "source": []
  }
 ],
 "metadata": {
  "kernelspec": {
   "display_name": "Python 3.10.8 ('cs182')",
   "language": "python",
   "name": "python3"
  },
  "language_info": {
   "codemirror_mode": {
    "name": "ipython",
    "version": 3
   },
   "file_extension": ".py",
   "mimetype": "text/x-python",
   "name": "python",
   "nbconvert_exporter": "python",
   "pygments_lexer": "ipython3",
   "version": "3.10.8"
  },
  "orig_nbformat": 4,
  "vscode": {
   "interpreter": {
    "hash": "9ab0e2aa881ca40358338efa0b4935a3094aa552aa6f563c2ae8f08225d88408"
   }
  }
 },
 "nbformat": 4,
 "nbformat_minor": 2
}
