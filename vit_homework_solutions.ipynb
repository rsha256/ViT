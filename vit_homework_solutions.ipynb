{
  "cells": [
    {
      "cell_type": "markdown",
      "metadata": {
        "id": "Hps6N5Fkgrcu"
      },
      "source": [
        "## Vision transformers"
      ]
    },
    {
      "cell_type": "markdown",
      "metadata": {
        "id": "eY_SQAvOgrcz"
      },
      "source": [
        "Outline:\n",
        "- Fill in model architecture (maybe ask them to implement attention by hand? might be too hard)\n",
        "- Load pretrained weights\n",
        "- Load ImageNet\n",
        "- Fine-tune on ImageNet (write training loop)"
      ]
    },
    {
      "cell_type": "markdown",
      "metadata": {
        "id": "1IPU4ZgSgrc0"
      },
      "source": [
        "## Vision transformer architecture\n",
        "\n",
        "First, go to `vit_architecture.py` and fill in some model definitions. You might find this illustration of the architecture of a vision transformer helpful (Figure 1 from the [ViT paper](https://arxiv.org/pdf/2010.11929.pdf)).\n",
        "\n",
        "![](https://github.com/rsha256/ViT/blob/main/vit_architecture.png?raw=1)"
      ]
    },
    {
      "cell_type": "markdown",
      "metadata": {
        "id": "1e8nLgt7grc1"
      },
      "source": [
        "Once you complete all the TODOs, run the cell below to import the model."
      ]
    },
    {
      "cell_type": "code",
      "execution_count": 4,
      "metadata": {
        "colab": {
          "base_uri": "https://localhost:8080/"
        },
        "id": "hJnK_ryjgrc1",
        "outputId": "af48f87f-3c0d-40a3-a37b-6c43bed91a5c"
      },
      "outputs": [
        {
          "name": "stdout",
          "output_type": "stream",
          "text": [
            "The autoreload extension is already loaded. To reload it, use:\n",
            "  %reload_ext autoreload\n"
          ]
        },
        {
          "data": {
            "text/plain": [
              "VisionTransformer(\n",
              "    # attributes\n",
              "    num_classes = 10\n",
              "    patch_size = 16\n",
              "    hidden_size = 384\n",
              "    transformer_config = {'mlp_dim': 1536, 'num_heads': 6, 'num_layers': 12, 'attention_dropout_rate': 0.0, 'dropout_rate': 0.0}\n",
              "    cls_head_bias_init = 0.0\n",
              "    model_name = 'ViT-S_16'\n",
              ")"
            ]
          },
          "execution_count": 4,
          "metadata": {},
          "output_type": "execute_result"
        }
      ],
      "source": [
        "%load_ext autoreload\n",
        "%autoreload 2\n",
        "\n",
        "from vit_architecture_solutions import VisionTransformer\n",
        "\n",
        "config = {\n",
        "    \"num_classes\": 10,\n",
        "    \"patch_size\": 16,\n",
        "    \"hidden_size\": 384,\n",
        "    \"model_name\": 'ViT-S_16',\n",
        "}\n",
        "\n",
        "transformer_config = {\n",
        "    \"mlp_dim\": 1536,\n",
        "    \"num_heads\": 6,\n",
        "    \"num_layers\": 12,\n",
        "    \"attention_dropout_rate\": 0.0,\n",
        "    \"dropout_rate\": 0.0,\n",
        "}\n",
        "\n",
        "LOAD_PRETRAINED = False\n",
        "\n",
        "model = VisionTransformer(\n",
        "    num_classes=config[\"num_classes\"], \n",
        "    patch_size=config[\"patch_size\"],\n",
        "    hidden_size=config[\"hidden_size\"],\n",
        "    model_name=config[\"model_name\"],\n",
        "    transformer_config=transformer_config,\n",
        ")\n",
        "\n",
        "model"
      ]
    },
    {
      "cell_type": "markdown",
      "metadata": {
        "id": "d8GkedWwgrc4"
      },
      "source": [
        "## Load pre-trained weights"
      ]
    },
    {
      "cell_type": "code",
      "execution_count": 5,
      "metadata": {
        "id": "mzEySJtugrc5"
      },
      "outputs": [],
      "source": [
        "import os\n",
        "import numpy as np\n",
        "import jax\n",
        "import jax.numpy as jnp\n",
        "import flax\n",
        "import optax\n",
        "from torch.utils.data import DataLoader\n",
        "import matplotlib.pyplot as plt\n",
        "import einops\n",
        "# import tqdm\n",
        "from tqdm import tqdm\n",
        "from vit_utils import load_pretrained, get_cifar10, NumpyLoader, accumulate_gradient, one_hot\n",
        "# jax.local_devices() # shows available devices"
      ]
    },
    {
      "cell_type": "code",
      "execution_count": 6,
      "metadata": {
        "id": "xERVNcYzgrc7"
      },
      "outputs": [],
      "source": [
        "# Download pretrained S_16 checkpoint\n",
        "checkpoint_file = \"S_16-i21k-300ep-lr_0.001-aug_light1-wd_0.03-do_0.0-sd_0.0.npz\"\n",
        "if not os.path.exists(\"checkpoints\"):\n",
        "    os.system(\"mkdir checkpoints\")\n",
        "os.chdir(\"checkpoints\")\n",
        "if not os.path.exists(checkpoint_file):\n",
        "    os.system(f\"wget https://storage.googleapis.com/vit_models/augreg/{checkpoint_file}\")\n",
        "os.chdir(\"..\")\n",
        "with open(f\"checkpoints/{checkpoint_file}\", \"rb\") as f:\n",
        "    ckpt_dict = np.load(f, allow_pickle=False)\n",
        "    keys, values = zip(*list(ckpt_dict.items()))\n",
        "\n",
        "# Initialize the model with random parameters\n",
        "variables = jax.jit(lambda: model.init(\n",
        "    jax.random.PRNGKey(0),\n",
        "    np.random.randn(2, 224, 224, 3),\n",
        "    train=False,\n",
        "), backend='cpu')()"
      ]
    },
    {
      "cell_type": "code",
      "execution_count": 7,
      "metadata": {
        "id": "0beMR4nVgrc9"
      },
      "outputs": [],
      "source": [
        "if LOAD_PRETRAINED:\n",
        "    # Load checkpoint\n",
        "    params = load_pretrained(\n",
        "        pretrained_path=f'checkpoints/{checkpoint_file}',\n",
        "        init_params=variables['params'],\n",
        "    )\n",
        "else:\n",
        "    params = variables['params']"
      ]
    },
    {
      "cell_type": "markdown",
      "metadata": {
        "id": "hVayF1DOgrc9"
      },
      "source": [
        "[Optional] \n",
        "Fun Exercise: Load ImageNet and check the performance on it out of the box."
      ]
    },
    {
      "cell_type": "markdown",
      "metadata": {
        "id": "V86gSgj_grc_"
      },
      "source": [
        "## Load CIFAR-10"
      ]
    },
    {
      "cell_type": "markdown",
      "metadata": {
        "id": "1IydiKpmgrc_"
      },
      "source": [
        "In this section, we will fine-tune our vision transformer on CIFAR-10. CIFAR-10 is an image dataset with 10 classes. If you are not familiar with the dataset, you can read about it [here](https://www.cs.toronto.edu/~kriz/cifar.html). Since our model was trained on ImageNet, a much bigger and more complex dataset, CIFAR-10 should be relatively easy.\n",
        "\n",
        "First, let's load the dataset and check the model's performance before any fine-tuning."
      ]
    },
    {
      "cell_type": "code",
      "execution_count": 8,
      "metadata": {
        "colab": {
          "base_uri": "https://localhost:8080/",
          "height": 370,
          "referenced_widgets": [
            "10dcee72527f4d7d8ac4fea22b77222c",
            "c31263e7ab5043a0b9d3a7d309f57180",
            "fdbb66d0151f4bd29c03f451e4be2f53",
            "4e2ae6c2bd804e0a99bb57e2e46c57d4",
            "307ace4d38a14ea1866d72cc652259d2",
            "c89eacddcc644b90a8a78aa2d8c7d5ca",
            "a0ced638aa65432aa45af75024fb9f35",
            "320f48d2b1d546a9a6a25bfb04eaa709",
            "43de7f42624c47cd86a2a08f387d2b59",
            "600dd9fd3e2b4c59a4b96a1a11e9afdf",
            "3c25c60c062448cc9285517992580d5f"
          ]
        },
        "id": "VqUXfoD1grdA",
        "outputId": "e7c733cc-54d0-4128-95f7-d11f9d5d437d"
      },
      "outputs": [
        {
          "name": "stdout",
          "output_type": "stream",
          "text": [
            "Downloading https://www.cs.toronto.edu/~kriz/cifar-10-python.tar.gz to cifar10_train/cifar-10-python.tar.gz\n"
          ]
        },
        {
          "data": {
            "application/vnd.jupyter.widget-view+json": {
              "model_id": "10dcee72527f4d7d8ac4fea22b77222c",
              "version_major": 2,
              "version_minor": 0
            },
            "text/plain": [
              "  0%|          | 0/170498071 [00:00<?, ?it/s]"
            ]
          },
          "metadata": {},
          "output_type": "display_data"
        },
        {
          "name": "stdout",
          "output_type": "stream",
          "text": [
            "Extracting cifar10_train/cifar-10-python.tar.gz to cifar10_train\n",
            "Files already downloaded and verified\n",
            "Label: ship\n"
          ]
        },
        {
          "data": {
            "image/png": "[encoded data removed]",
            "text/plain": [
              "<Figure size 432x288 with 1 Axes>"
            ]
          },
          "metadata": {
            "needs_background": "light"
          },
          "output_type": "display_data"
        }
      ],
      "source": [
        "n_targets = 10\n",
        "batch_size = 128\n",
        "cifar10_labels = ['airplane', 'automobile', 'bird', 'cat', 'deer', 'dog', 'frog', 'horse', 'ship', 'truck']\n",
        "\n",
        "# Get datasets from torchvision\n",
        "cifar10_train, cifar10_test = get_cifar10()\n",
        "train_loader = DataLoader(cifar10_train, batch_size=batch_size, shuffle=True, pin_memory=True)\n",
        "test_loader = DataLoader(cifar10_test, batch_size=batch_size, pin_memory=True)\n",
        "\n",
        "# Show an example image\n",
        "for images, labels in train_loader:\n",
        "    plt.imshow(einops.rearrange(images[0], \"c h w -> h w c\"))\n",
        "    print(f\"Label: {cifar10_labels[labels[0]]}\")\n",
        "    break"
      ]
    },
    {
      "cell_type": "code",
      "execution_count": 9,
      "metadata": {
        "colab": {
          "base_uri": "https://localhost:8080/"
        },
        "id": "E6l6YoJBgrdA",
        "outputId": "45a2981e-c787-4adf-9910-5e5c00eed72c"
      },
      "outputs": [
        {
          "name": "stdout",
          "output_type": "stream",
          "text": [
            "params.cls: DeviceArray (10,)\n",
            "params_repl.cls: ShardedDeviceArray (1, 10)\n"
          ]
        }
      ],
      "source": [
        "# This cell contains some JAX setup that you do not have to understand.\n",
        "\n",
        "# So far, all our data is in the host memory. Let's now replicate the arrays\n",
        "# into the devices.\n",
        "# This will make every array in the pytree params become a ShardedDeviceArray\n",
        "# that has the same data replicated across all local devices.\n",
        "# For TPU it replicates the params in every core.\n",
        "# For a single GPU this simply moves the data onto the device.\n",
        "# For CPU it simply creates a copy.\n",
        "params_repl = flax.jax_utils.replicate(params)\n",
        "print('params.cls:', type(params['head']['bias']).__name__,\n",
        "      params['head']['bias'].shape)\n",
        "print('params_repl.cls:', type(params_repl['head']['bias']).__name__,\n",
        "      params_repl['head']['bias'].shape)\n",
        "\n",
        "# Then map the call to our model's forward pass onto all available devices.\n",
        "vit_apply_repl = jax.pmap(lambda params, inputs: model.apply(\n",
        "    dict(params=params), inputs, train=False))"
      ]
    },
    {
      "cell_type": "code",
      "execution_count": 10,
      "metadata": {
        "colab": {
          "base_uri": "https://localhost:8080/"
        },
        "id": "k0pihM4jgrdB",
        "outputId": "caf59850-fe7f-4ace-ec7c-b666f91399f6"
      },
      "outputs": [
        {
          "name": "stderr",
          "output_type": "stream",
          "text": [
            "100%|██████████| 79/79 [01:08<00:00,  1.16it/s]\n"
          ]
        },
        {
          "data": {
            "text/plain": [
              "DeviceArray(0.1, dtype=float32)"
            ]
          },
          "execution_count": 10,
          "metadata": {},
          "output_type": "execute_result"
        }
      ],
      "source": [
        "# Check the accuracy on CIFAR-10 without fine-tuning\n",
        "\n",
        "def get_accuracy(params_repl, torch_loader: DataLoader):\n",
        "  \"\"\"Returns accuracy evaluated on the test set.\"\"\"\n",
        "  good = total = 0\n",
        "  for image, label in tqdm(torch_loader):\n",
        "      image = image.unsqueeze(0).numpy()\n",
        "      image = einops.rearrange(image, \"n b c h w -> n b h w c\")\n",
        "      # ---------- student TODO -----------\n",
        "      predicted = vit_apply_repl(params_repl, image).squeeze()\n",
        "      is_same = predicted.argmax(axis=-1) == label.numpy()\n",
        "      good += is_same.sum()\n",
        "      total += len(is_same.flatten())\n",
        "      # -----------------------------------\n",
        "  return good / total\n",
        "\n",
        "get_accuracy(params_repl, test_loader)"
      ]
    },
    {
      "cell_type": "markdown",
      "metadata": {
        "id": "5rySyNYEgrdC"
      },
      "source": [
        "Question 1: How is the model's performance on CIFAR-10 without any fine-tuning? Is this surprising?"
      ]
    },
    {
      "cell_type": "markdown",
      "metadata": {},
      "source": [
        "<span style=\"color:blue\">Answer: We get an accuracy of 0.1 without any fine-tuning, this is not surprising, as poor performance is expected with a naive model.</span>"
      ]
    },
    {
      "cell_type": "markdown",
      "metadata": {
        "id": "qNV3BIBsgrdC"
      },
      "source": [
        "## Fine-tune"
      ]
    },
    {
      "cell_type": "markdown",
      "metadata": {
        "id": "1KNEKjzbgrdC"
      },
      "source": [
        "Question 2: Explain what is fine-tuning"
      ]
    },
    {
      "cell_type": "markdown",
      "metadata": {},
      "source": [
        "<span style=\"color:blue\">Answer: Fine-tuning is the process of adapting a pre-trained deep learning model to a new task by retraining some or all of the layers of the model on new data. This can be useful when the amount of data available for the new task is relatively small, and using a pre-trained model as a starting point helps to prevent overfitting. Fine-tuning can also help to improve the performance of a model on the new task by leveraging the knowledge learned by the pre-trained model on the original task.</span>"
      ]
    },
    {
      "cell_type": "code",
      "execution_count": null,
      "metadata": {},
      "outputs": [],
      "source": [
        "<span style=\"color:blue\">Answer: We get an accuracy of 0.1 without any fine-tuning, this is not surprising, as poor performance is expected with a naive model.</span>"
      ]
    },
    {
      "cell_type": "code",
      "execution_count": 11,
      "metadata": {
        "id": "bpup8zg5grdD"
      },
      "outputs": [],
      "source": [
        "# Training parameters\n",
        "total_steps = 100\n",
        "warmup_steps = 5\n",
        "grad_norm_clip = 1\n",
        "# This controls in how many forward passes the batch is split. 8 works well with\n",
        "# a TPU runtime that has 8 devices. 64 should work on a GPU. You can of course\n",
        "# also adjust the batch_size above, but that would require you to adjust the\n",
        "# learning rate accordingly.\n",
        "accum_steps = 8\n",
        "base_lr = 0.03\n",
        "update_rng_repl = flax.jax_utils.replicate(jax.random.PRNGKey(0))"
      ]
    },
    {
      "cell_type": "markdown",
      "metadata": {
        "id": "NAZsth2ggrdD"
      },
      "source": [
        "Notice how at the beginning of the semester we discussed how to change learning rates. In practice, peeople use something called ``scheduler`` that controls the learning rate.\n",
        "We will use a cosine learning rate schedule. Fill in the function below.\n",
        "\n",
        "You can refer to https://pytorch.org/docs/stable/generated/torch.optim.lr_scheduler.CosineAnnealingLR.html for the equation."
      ]
    },
    {
      "cell_type": "code",
      "execution_count": 12,
      "metadata": {
        "id": "j97TABv6grdD"
      },
      "outputs": [],
      "source": [
        "def create_cosine_lr_schedule(total_steps, base, warmup_steps,):\n",
        "  \"\"\"Creates a cosine learning rate schedule.\n",
        "  Args:\n",
        "    total_steps: The total number of steps to run.\n",
        "    base: The starting learning-rate (without warmup).\n",
        "    warmup_steps: how many steps to warm up for.\n",
        "  Returns:\n",
        "    A function learning_rate(step): float -> {\"learning_rate\": float}.\n",
        "  \"\"\"\n",
        "\n",
        "  def step_fn(step):\n",
        "    \"\"\"Step to learning rate function.\"\"\"\n",
        "    lr = base\n",
        "    progress = (step - warmup_steps) / float(total_steps - warmup_steps)\n",
        "    progress = jnp.clip(progress, 0.0, 1.0)\n",
        "    lr = lr * 0.5 * (1. + jnp.cos(jnp.pi * progress))\n",
        "    if warmup_steps:\n",
        "      lr = lr * jnp.minimum(1., step / warmup_steps)\n",
        "\n",
        "    return jnp.asarray(lr, dtype=jnp.float32)\n",
        "\n",
        "  return step_fn"
      ]
    },
    {
      "cell_type": "markdown",
      "metadata": {
        "id": "TevGXJ04grdE"
      },
      "source": [
        "Fill in the `cross_entropy_loss` function below. Recall that the cross entropy loss is defined as:\n",
        "$$\n",
        "\\mathcal{L} = -\\frac{1}{N}\\sum_{i=1}^N\\sum_{j=1}^M y_{ij} f(\\hat{y}_{ij})\n",
        "$$\n",
        "where $y_{ij}$ is the one-hot encoding of the true label $y_i$ \n",
        "\n",
        "and $f(\\hat{y}_{ij}) = \\log\\left(\\frac{e^{\\hat{y}_i}}{\\sum_j^M e^{\\hat{y}_j}}\\right)$ is the predicted log-probability of the label $y_i$.\n",
        "\n",
        "Hint: You can use `jax.nn.log_softmax` to find the predicted logprobs."
      ]
    },
    {
      "cell_type": "code",
      "execution_count": 13,
      "metadata": {
        "id": "vgzLmvgYgrdE"
      },
      "outputs": [],
      "source": [
        "def make_update_fn(*, apply_fn, accum_steps, tx):\n",
        "  \"\"\"Returns update step for data parallel training.\"\"\"\n",
        "\n",
        "  def update_fn(params, opt_state, batch, rng):\n",
        "\n",
        "    _, new_rng = jax.random.split(rng)\n",
        "    # Bind the rng key to the device id (which is unique across hosts)\n",
        "    # Note: This is only used for multi-host training (i.e. multiple computers\n",
        "    # each with multiple accelerators).\n",
        "    dropout_rng = jax.random.fold_in(rng, jax.lax.axis_index('batch'))\n",
        "\n",
        "    def cross_entropy_loss(*, logits, labels):\n",
        "      logp = jax.nn.log_softmax(logits)\n",
        "      return -jnp.mean(jnp.sum(logp * labels, axis=1))\n",
        "\n",
        "    def loss_fn(params, images, labels):\n",
        "      logits = apply_fn(\n",
        "          dict(params=params),\n",
        "          rngs=dict(dropout=dropout_rng),\n",
        "          inputs=images,\n",
        "          train=True)\n",
        "      return cross_entropy_loss(logits=logits, labels=labels)\n",
        "\n",
        "    l, g = accumulate_gradient(\n",
        "        jax.value_and_grad(loss_fn), params, batch[0], batch[1],\n",
        "        accum_steps)\n",
        "    g = jax.tree_map(lambda x: jax.lax.pmean(x, axis_name='batch'), g)\n",
        "    updates, opt_state = tx.update(g, opt_state)\n",
        "    params = optax.apply_updates(params, updates)\n",
        "    l = jax.lax.pmean(l, axis_name='batch')\n",
        "\n",
        "    return params, opt_state, l, new_rng\n",
        "\n",
        "  return jax.pmap(update_fn, axis_name='batch', donate_argnums=(0,))"
      ]
    },
    {
      "cell_type": "code",
      "execution_count": 14,
      "metadata": {
        "id": "mQAmS1ECgrdG"
      },
      "outputs": [],
      "source": [
        "lr_fn = create_cosine_lr_schedule(total_steps, base_lr, warmup_steps)\n",
        "# We use a momentum optimizer that uses half precision for state to save\n",
        "# memory. It als implements the gradient clipping.\n",
        "tx = optax.chain(\n",
        "    optax.clip_by_global_norm(grad_norm_clip),\n",
        "    optax.sgd(\n",
        "        learning_rate=lr_fn,\n",
        "        momentum=0.9,\n",
        "        accumulator_dtype='bfloat16',\n",
        "    ),\n",
        ")\n",
        "update_fn_repl = make_update_fn(\n",
        "    apply_fn=model.apply, accum_steps=accum_steps, tx=tx)\n",
        "opt_state = tx.init(params)\n",
        "opt_state_repl = flax.jax_utils.replicate(opt_state)"
      ]
    },
    {
      "cell_type": "code",
      "execution_count": 15,
      "metadata": {
        "colab": {
          "base_uri": "https://localhost:8080/"
        },
        "id": "fDkoAHzUgrdQ",
        "outputId": "5b9e77df-037a-4e6b-8e4a-2363044c05de"
      },
      "outputs": [
        {
          "name": "stderr",
          "output_type": "stream",
          "text": [
            "100it [03:11,  1.92s/it]\n"
          ]
        }
      ],
      "source": [
        "losses = []\n",
        "lrs = []\n",
        "# Completes in ~3 mins on the GPU runtime.\n",
        "\n",
        "train_np_loader = NumpyLoader(cifar10_train, batch_size=batch_size, num_workers=0)\n",
        "\n",
        "for step, batch in tqdm(zip(\n",
        "    np.arange(1, total_steps + 1),\n",
        "    train_np_loader,\n",
        ")):\n",
        "  # reshape images and labels appropriately\n",
        "  images = batch[0].reshape(1, batch_size, 224, 224, 3)\n",
        "  labels = one_hot(batch[1].squeeze(), 10).reshape(1,batch_size,-1)\n",
        "  params_repl, opt_state_repl, loss_repl, update_rng_repl = update_fn_repl(\n",
        "      params_repl, opt_state_repl, (images, labels), update_rng_repl)\n",
        "  losses.append(loss_repl[0])\n",
        "  lrs.append(lr_fn(step))"
      ]
    },
    {
      "cell_type": "markdown",
      "metadata": {
        "id": "SsyQWHE8grdR"
      },
      "source": [
        "Let's plot the loss curve and learning rate schedule to see if training functioned as expected."
      ]
    },
    {
      "cell_type": "code",
      "execution_count": 16,
      "metadata": {
        "colab": {
          "base_uri": "https://localhost:8080/",
          "height": 498
        },
        "id": "5CYH2Hn8grdR",
        "outputId": "d958f85d-ef44-44bd-a355-0b2bad3b79fe"
      },
      "outputs": [
        {
          "data": {
            "text/plain": [
              "Text(0.5, 0, 'steps')"
            ]
          },
          "execution_count": 16,
          "metadata": {},
          "output_type": "execute_result"
        },
        {
          "data": {
            "image/png": "[encoded data removed]",
            "text/plain": [
              "<Figure size 1200x450 with 2 Axes>"
            ]
          },
          "metadata": {
            "needs_background": "light"
          },
          "output_type": "display_data"
        }
      ],
      "source": [
        "fig = plt.figure(dpi=150, figsize=(8, 3))\n",
        "plt.subplot(121)\n",
        "plt.plot(losses)\n",
        "plt.title(\"loss\")\n",
        "plt.xlabel(\"steps\")\n",
        "plt.subplot(122)\n",
        "plt.plot(lrs)\n",
        "plt.title(\"learning rate\")\n",
        "plt.xlabel(\"steps\")"
      ]
    },
    {
      "cell_type": "code",
      "execution_count": 17,
      "metadata": {
        "colab": {
          "base_uri": "https://localhost:8080/"
        },
        "id": "FCz63QydgrdR",
        "outputId": "9d743738-08fc-4453-8a93-5651f6512e64"
      },
      "outputs": [
        {
          "name": "stdout",
          "output_type": "stream",
          "text": [
            "Running Autograder...\n",
            "Last Loss: 2.09\n",
            "Success!\n"
          ]
        }
      ],
      "source": [
        "print(\"Running Autograder...\")\n",
        "print(f\"Last Loss: {losses[-1]:.2f}\")\n",
        "assert losses[-1] < 2.2, \"Loss too high.\"\n",
        "print(\"Success!\")"
      ]
    },
    {
      "cell_type": "markdown",
      "metadata": {
        "id": "uRzFMNyRgrdR"
      },
      "source": [
        "Now we can test the model's accuracy on CIFAR-10 again using the `get_accuracy()` function you wrote."
      ]
    },
    {
      "cell_type": "code",
      "execution_count": 18,
      "metadata": {
        "colab": {
          "base_uri": "https://localhost:8080/"
        },
        "id": "nI_b1JzxgrdS",
        "outputId": "7c8a9f20-df2b-45d5-9d96-f73a941d8b80"
      },
      "outputs": [
        {
          "name": "stderr",
          "output_type": "stream",
          "text": [
            "100%|██████████| 79/79 [00:46<00:00,  1.71it/s]\n"
          ]
        },
        {
          "data": {
            "text/plain": [
              "DeviceArray(0.17600001, dtype=float32)"
            ]
          },
          "execution_count": 18,
          "metadata": {},
          "output_type": "execute_result"
        }
      ],
      "source": [
        "accuracy_score = get_accuracy(params_repl, test_loader)\n",
        "accuracy_score"
      ]
    },
    {
      "cell_type": "code",
      "execution_count": 19,
      "metadata": {
        "colab": {
          "base_uri": "https://localhost:8080/"
        },
        "id": "gfq_H8lFgrdS",
        "outputId": "cdb53629-cfe7-4691-8c85-6bb0fff5c48c"
      },
      "outputs": [
        {
          "name": "stdout",
          "output_type": "stream",
          "text": [
            "Running Autograder...\n",
            "Success!\n"
          ]
        }
      ],
      "source": [
        "print(\"Running Autograder...\")\n",
        "assert accuracy_score > 0.1, \"Accuracy should be above 10% for Random Initialization.\"\n",
        "print(\"Success!\")"
      ]
    },
    {
      "cell_type": "markdown",
      "metadata": {
        "id": "jQATNu70grdS"
      },
      "source": [
        "Change the `LOAD_PRETRAINED` flag at the top of the file and run the notebook again. Now we are not loading in pretrained weights, and the model's weights are randomly initialized. Train this model for one epoch (the same number of steps as the fine-tuning portion). What is the accuracy after training the model for the same amount of time?\n",
        "\n",
        "<span style=\"color:blue\">[The pretrained ViT achieves 92% accuracy and the randomly initialized model achieves 17% for the staff solution.]</span>"
      ]
    },
    {
      "cell_type": "markdown",
      "metadata": {
        "id": "GwapamnLgrdS"
      },
      "source": [
        "## Citations of External Sources"
      ]
    },
    {
      "cell_type": "markdown",
      "metadata": {
        "id": "NPATjAsIgrdT"
      },
      "source": [
        "Dosovitskiy, Alexey, et al. \"An image is worth 16x16 words: Transformers for image recognition at scale.\" arXiv preprint arXiv:2010.11929 (2020).\n",
        "https://github.com/google-research/vision_transformer\n",
        "\n",
        "\"Cosine Annealing LR.\" CosineAnnealingLR - PyTorch 1.13 Documentation, https://pytorch.org/docs/stable/generated/torch.optim.lr_scheduler.CosineAnnealingLR.html. \n",
        "\n",
        "\"Flax.jax_utils Package.\" Flax.jax_utils Package, https://flax.readthedocs.io/en/latest/api_reference/flax.jax_utils.html.\n",
        "\n",
        "\"Jax Quickstart.\" JAX Quickstart - JAX Documentation, https://jax.readthedocs.io/en/latest/notebooks/quickstart.html.\n"
      ]
    }
  ],
  "metadata": {
    "accelerator": "GPU",
    "colab": {
      "provenance": []
    },
    "gpuClass": "standard",
    "kernelspec": {
      "display_name": "Python 3.10.8 ('cs182')",
      "language": "python",
      "name": "python3"
    },
    "language_info": {
      "codemirror_mode": {
        "name": "ipython",
        "version": 3
      },
      "file_extension": ".py",
      "mimetype": "text/x-python",
      "name": "python",
      "nbconvert_exporter": "python",
      "pygments_lexer": "ipython3",
      "version": "3.10.8"
    },
    "orig_nbformat": 4,
    "vscode": {
      "interpreter": {
        "hash": "054a6eff6ac11c720efa82538051e8e6dab7d1a49da5553b44a11438805cb38e"
      }
    },
    "widgets": {
      "application/vnd.jupyter.widget-state+json": {
        "10dcee72527f4d7d8ac4fea22b77222c": {
          "model_module": "@jupyter-widgets/controls",
          "model_module_version": "1.5.0",
          "model_name": "HBoxModel",
          "state": {
            "_dom_classes": [],
            "_model_module": "@jupyter-widgets/controls",
            "_model_module_version": "1.5.0",
            "_model_name": "HBoxModel",
            "_view_count": null,
            "_view_module": "@jupyter-widgets/controls",
            "_view_module_version": "1.5.0",
            "_view_name": "HBoxView",
            "box_style": "",
            "children": [
              "IPY_MODEL_c31263e7ab5043a0b9d3a7d309f57180",
              "IPY_MODEL_fdbb66d0151f4bd29c03f451e4be2f53",
              "IPY_MODEL_4e2ae6c2bd804e0a99bb57e2e46c57d4"
            ],
            "layout": "IPY_MODEL_307ace4d38a14ea1866d72cc652259d2"
          }
        },
        "307ace4d38a14ea1866d72cc652259d2": {
          "model_module": "@jupyter-widgets/base",
          "model_module_version": "1.2.0",
          "model_name": "LayoutModel",
          "state": {
            "_model_module": "@jupyter-widgets/base",
            "_model_module_version": "1.2.0",
            "_model_name": "LayoutModel",
            "_view_count": null,
            "_view_module": "@jupyter-widgets/base",
            "_view_module_version": "1.2.0",
            "_view_name": "LayoutView",
            "align_content": null,
            "align_items": null,
            "align_self": null,
            "border": null,
            "bottom": null,
            "display": null,
            "flex": null,
            "flex_flow": null,
            "grid_area": null,
            "grid_auto_columns": null,
            "grid_auto_flow": null,
            "grid_auto_rows": null,
            "grid_column": null,
            "grid_gap": null,
            "grid_row": null,
            "grid_template_areas": null,
            "grid_template_columns": null,
            "grid_template_rows": null,
            "height": null,
            "justify_content": null,
            "justify_items": null,
            "left": null,
            "margin": null,
            "max_height": null,
            "max_width": null,
            "min_height": null,
            "min_width": null,
            "object_fit": null,
            "object_position": null,
            "order": null,
            "overflow": null,
            "overflow_x": null,
            "overflow_y": null,
            "padding": null,
            "right": null,
            "top": null,
            "visibility": null,
            "width": null
          }
        },
        "320f48d2b1d546a9a6a25bfb04eaa709": {
          "model_module": "@jupyter-widgets/base",
          "model_module_version": "1.2.0",
          "model_name": "LayoutModel",
          "state": {
            "_model_module": "@jupyter-widgets/base",
            "_model_module_version": "1.2.0",
            "_model_name": "LayoutModel",
            "_view_count": null,
            "_view_module": "@jupyter-widgets/base",
            "_view_module_version": "1.2.0",
            "_view_name": "LayoutView",
            "align_content": null,
            "align_items": null,
            "align_self": null,
            "border": null,
            "bottom": null,
            "display": null,
            "flex": null,
            "flex_flow": null,
            "grid_area": null,
            "grid_auto_columns": null,
            "grid_auto_flow": null,
            "grid_auto_rows": null,
            "grid_column": null,
            "grid_gap": null,
            "grid_row": null,
            "grid_template_areas": null,
            "grid_template_columns": null,
            "grid_template_rows": null,
            "height": null,
            "justify_content": null,
            "justify_items": null,
            "left": null,
            "margin": null,
            "max_height": null,
            "max_width": null,
            "min_height": null,
            "min_width": null,
            "object_fit": null,
            "object_position": null,
            "order": null,
            "overflow": null,
            "overflow_x": null,
            "overflow_y": null,
            "padding": null,
            "right": null,
            "top": null,
            "visibility": null,
            "width": null
          }
        },
        "3c25c60c062448cc9285517992580d5f": {
          "model_module": "@jupyter-widgets/controls",
          "model_module_version": "1.5.0",
          "model_name": "DescriptionStyleModel",
          "state": {
            "_model_module": "@jupyter-widgets/controls",
            "_model_module_version": "1.5.0",
            "_model_name": "DescriptionStyleModel",
            "_view_count": null,
            "_view_module": "@jupyter-widgets/base",
            "_view_module_version": "1.2.0",
            "_view_name": "StyleView",
            "description_width": ""
          }
        },
        "43de7f42624c47cd86a2a08f387d2b59": {
          "model_module": "@jupyter-widgets/controls",
          "model_module_version": "1.5.0",
          "model_name": "ProgressStyleModel",
          "state": {
            "_model_module": "@jupyter-widgets/controls",
            "_model_module_version": "1.5.0",
            "_model_name": "ProgressStyleModel",
            "_view_count": null,
            "_view_module": "@jupyter-widgets/base",
            "_view_module_version": "1.2.0",
            "_view_name": "StyleView",
            "bar_color": null,
            "description_width": ""
          }
        },
        "4e2ae6c2bd804e0a99bb57e2e46c57d4": {
          "model_module": "@jupyter-widgets/controls",
          "model_module_version": "1.5.0",
          "model_name": "HTMLModel",
          "state": {
            "_dom_classes": [],
            "_model_module": "@jupyter-widgets/controls",
            "_model_module_version": "1.5.0",
            "_model_name": "HTMLModel",
            "_view_count": null,
            "_view_module": "@jupyter-widgets/controls",
            "_view_module_version": "1.5.0",
            "_view_name": "HTMLView",
            "description": "",
            "description_tooltip": null,
            "layout": "IPY_MODEL_600dd9fd3e2b4c59a4b96a1a11e9afdf",
            "placeholder": "​",
            "style": "IPY_MODEL_3c25c60c062448cc9285517992580d5f",
            "value": " 170498071/170498071 [00:02&lt;00:00, 86970422.33it/s]"
          }
        },
        "600dd9fd3e2b4c59a4b96a1a11e9afdf": {
          "model_module": "@jupyter-widgets/base",
          "model_module_version": "1.2.0",
          "model_name": "LayoutModel",
          "state": {
            "_model_module": "@jupyter-widgets/base",
            "_model_module_version": "1.2.0",
            "_model_name": "LayoutModel",
            "_view_count": null,
            "_view_module": "@jupyter-widgets/base",
            "_view_module_version": "1.2.0",
            "_view_name": "LayoutView",
            "align_content": null,
            "align_items": null,
            "align_self": null,
            "border": null,
            "bottom": null,
            "display": null,
            "flex": null,
            "flex_flow": null,
            "grid_area": null,
            "grid_auto_columns": null,
            "grid_auto_flow": null,
            "grid_auto_rows": null,
            "grid_column": null,
            "grid_gap": null,
            "grid_row": null,
            "grid_template_areas": null,
            "grid_template_columns": null,
            "grid_template_rows": null,
            "height": null,
            "justify_content": null,
            "justify_items": null,
            "left": null,
            "margin": null,
            "max_height": null,
            "max_width": null,
            "min_height": null,
            "min_width": null,
            "object_fit": null,
            "object_position": null,
            "order": null,
            "overflow": null,
            "overflow_x": null,
            "overflow_y": null,
            "padding": null,
            "right": null,
            "top": null,
            "visibility": null,
            "width": null
          }
        },
        "a0ced638aa65432aa45af75024fb9f35": {
          "model_module": "@jupyter-widgets/controls",
          "model_module_version": "1.5.0",
          "model_name": "DescriptionStyleModel",
          "state": {
            "_model_module": "@jupyter-widgets/controls",
            "_model_module_version": "1.5.0",
            "_model_name": "DescriptionStyleModel",
            "_view_count": null,
            "_view_module": "@jupyter-widgets/base",
            "_view_module_version": "1.2.0",
            "_view_name": "StyleView",
            "description_width": ""
          }
        },
        "c31263e7ab5043a0b9d3a7d309f57180": {
          "model_module": "@jupyter-widgets/controls",
          "model_module_version": "1.5.0",
          "model_name": "HTMLModel",
          "state": {
            "_dom_classes": [],
            "_model_module": "@jupyter-widgets/controls",
            "_model_module_version": "1.5.0",
            "_model_name": "HTMLModel",
            "_view_count": null,
            "_view_module": "@jupyter-widgets/controls",
            "_view_module_version": "1.5.0",
            "_view_name": "HTMLView",
            "description": "",
            "description_tooltip": null,
            "layout": "IPY_MODEL_c89eacddcc644b90a8a78aa2d8c7d5ca",
            "placeholder": "​",
            "style": "IPY_MODEL_a0ced638aa65432aa45af75024fb9f35",
            "value": "100%"
          }
        },
        "c89eacddcc644b90a8a78aa2d8c7d5ca": {
          "model_module": "@jupyter-widgets/base",
          "model_module_version": "1.2.0",
          "model_name": "LayoutModel",
          "state": {
            "_model_module": "@jupyter-widgets/base",
            "_model_module_version": "1.2.0",
            "_model_name": "LayoutModel",
            "_view_count": null,
            "_view_module": "@jupyter-widgets/base",
            "_view_module_version": "1.2.0",
            "_view_name": "LayoutView",
            "align_content": null,
            "align_items": null,
            "align_self": null,
            "border": null,
            "bottom": null,
            "display": null,
            "flex": null,
            "flex_flow": null,
            "grid_area": null,
            "grid_auto_columns": null,
            "grid_auto_flow": null,
            "grid_auto_rows": null,
            "grid_column": null,
            "grid_gap": null,
            "grid_row": null,
            "grid_template_areas": null,
            "grid_template_columns": null,
            "grid_template_rows": null,
            "height": null,
            "justify_content": null,
            "justify_items": null,
            "left": null,
            "margin": null,
            "max_height": null,
            "max_width": null,
            "min_height": null,
            "min_width": null,
            "object_fit": null,
            "object_position": null,
            "order": null,
            "overflow": null,
            "overflow_x": null,
            "overflow_y": null,
            "padding": null,
            "right": null,
            "top": null,
            "visibility": null,
            "width": null
          }
        },
        "fdbb66d0151f4bd29c03f451e4be2f53": {
          "model_module": "@jupyter-widgets/controls",
          "model_module_version": "1.5.0",
          "model_name": "FloatProgressModel",
          "state": {
            "_dom_classes": [],
            "_model_module": "@jupyter-widgets/controls",
            "_model_module_version": "1.5.0",
            "_model_name": "FloatProgressModel",
            "_view_count": null,
            "_view_module": "@jupyter-widgets/controls",
            "_view_module_version": "1.5.0",
            "_view_name": "ProgressView",
            "bar_style": "success",
            "description": "",
            "description_tooltip": null,
            "layout": "IPY_MODEL_320f48d2b1d546a9a6a25bfb04eaa709",
            "max": 170498071,
            "min": 0,
            "orientation": "horizontal",
            "style": "IPY_MODEL_43de7f42624c47cd86a2a08f387d2b59",
            "value": 170498071
          }
        }
      }
    }
  },
  "nbformat": 4,
  "nbformat_minor": 0
}
